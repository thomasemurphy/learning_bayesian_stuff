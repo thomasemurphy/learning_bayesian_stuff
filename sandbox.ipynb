{
 "cells": [
  {
   "cell_type": "code",
   "execution_count": 1,
   "metadata": {},
   "outputs": [],
   "source": [
    "import scipy as scp\n",
    "import scipy.stats as sps\n",
    "import matplotlib.pyplot as plt\n",
    "import numpy as np\n",
    "import pandas as pd"
   ]
  },
  {
   "cell_type": "code",
   "execution_count": 2,
   "metadata": {},
   "outputs": [
    {
     "data": {
      "text/plain": [
       "[<matplotlib.lines.Line2D at 0x11af39908>]"
      ]
     },
     "execution_count": 2,
     "metadata": {},
     "output_type": "execute_result"
    },
    {
     "data": {
      "image/png": "[encoded data removed]",
      "text/plain": [
       "<Figure size 432x288 with 1 Axes>"
      ]
     },
     "metadata": {
      "needs_background": "light"
     },
     "output_type": "display_data"
    }
   ],
   "source": [
    "# playing with beta function parameters\n",
    "fig, ax = plt.subplots(1, 1)\n",
    "a, b = 40, 40\n",
    "mean, var, skew, kurt = sps.beta.stats(a, b, moments='mvsk')\n",
    "x = np.linspace(scp.stats.beta.ppf(0.01, a, b), scp.stats.beta.ppf(0.99, a, b), 100)\n",
    "ax.plot(x, scp.stats.beta.pdf(x, a, b), 'k-', lw=2, alpha=0.6, label='beta pdf')"
   ]
  },
  {
   "cell_type": "code",
   "execution_count": 6,
   "metadata": {},
   "outputs": [
    {
     "data": {
      "text/html": [
       "<div>\n",
       "<style scoped>\n",
       "    .dataframe tbody tr th:only-of-type {\n",
       "        vertical-align: middle;\n",
       "    }\n",
       "\n",
       "    .dataframe tbody tr th {\n",
       "        vertical-align: top;\n",
       "    }\n",
       "\n",
       "    .dataframe thead th {\n",
       "        text-align: right;\n",
       "    }\n",
       "</style>\n",
       "<table border=\"1\" class=\"dataframe\">\n",
       "  <thead>\n",
       "    <tr style=\"text-align: right;\">\n",
       "      <th></th>\n",
       "      <th>p</th>\n",
       "      <th>Pr(data|p)</th>\n",
       "      <th>Pr(p)</th>\n",
       "      <th>Pr(p|data)</th>\n",
       "    </tr>\n",
       "  </thead>\n",
       "  <tbody>\n",
       "    <tr>\n",
       "      <th>0.000</th>\n",
       "      <td>0.000</td>\n",
       "      <td>0.000000e+00</td>\n",
       "      <td>0.000000e+00</td>\n",
       "      <td>0.000000e+00</td>\n",
       "    </tr>\n",
       "    <tr>\n",
       "      <th>0.001</th>\n",
       "      <td>0.001</td>\n",
       "      <td>4.557497e-264</td>\n",
       "      <td>2.067862e-93</td>\n",
       "      <td>0.000000e+00</td>\n",
       "    </tr>\n",
       "    <tr>\n",
       "      <th>0.002</th>\n",
       "      <td>0.002</td>\n",
       "      <td>3.405970e-232</td>\n",
       "      <td>1.093273e-81</td>\n",
       "      <td>1.839259e-311</td>\n",
       "    </tr>\n",
       "    <tr>\n",
       "      <th>0.003</th>\n",
       "      <td>0.003</td>\n",
       "      <td>1.452824e-213</td>\n",
       "      <td>7.750107e-75</td>\n",
       "      <td>5.561528e-286</td>\n",
       "    </tr>\n",
       "    <tr>\n",
       "      <th>0.004</th>\n",
       "      <td>0.004</td>\n",
       "      <td>2.344130e-200</td>\n",
       "      <td>5.558037e-70</td>\n",
       "      <td>6.435417e-268</td>\n",
       "    </tr>\n",
       "  </tbody>\n",
       "</table>\n",
       "</div>"
      ],
      "text/plain": [
       "           p     Pr(data|p)         Pr(p)     Pr(p|data)\n",
       "0.000  0.000   0.000000e+00  0.000000e+00   0.000000e+00\n",
       "0.001  0.001  4.557497e-264  2.067862e-93   0.000000e+00\n",
       "0.002  0.002  3.405970e-232  1.093273e-81  1.839259e-311\n",
       "0.003  0.003  1.452824e-213  7.750107e-75  5.561528e-286\n",
       "0.004  0.004  2.344130e-200  5.558037e-70  6.435417e-268"
      ]
     },
     "execution_count": 6,
     "metadata": {},
     "output_type": "execute_result"
    }
   ],
   "source": [
    "beta_a = 40\n",
    "beta_b = 40\n",
    "\n",
    "observed_trials = 188\n",
    "observed_wins = 106\n",
    "observed_losses = observed_trials - observed_wins\n",
    "\n",
    "p_range = np.linspace(0,1,1001)\n",
    "my_df = pd.DataFrame(data=None,columns=['p','Pr(data|p)','Pr(p)','Pr(p|data)'], index=p_range)\n",
    "my_df['p'] = p_range\n",
    "my_df['Pr(data|p)'] = scp.special.comb(observed_trials, observed_wins) * my_df['p']**observed_wins * (1-my_df['p'])**observed_losses\n",
    "my_df['Pr(p)'] = scp.stats.beta(beta_a, beta_b).pdf(my_df['p'])\n",
    "\n",
    "Pr_data = scp.integrate.trapz(my_df['Pr(data|p)'] * my_df['Pr(p)'], my_df['p'])\n",
    "\n",
    "my_df['Pr(p|data)'] = my_df['Pr(data|p)'] * my_df['Pr(p)'] / Pr_data\n",
    "\n",
    "my_df.head()"
   ]
  },
  {
   "cell_type": "code",
   "execution_count": 7,
   "metadata": {},
   "outputs": [
    {
     "data": {
      "text/plain": [
       "Text(0, 0.5, 'Pr(p|data)')"
      ]
     },
     "execution_count": 7,
     "metadata": {},
     "output_type": "execute_result"
    },
    {
     "data": {
      "image/png": "[encoded data removed]",
      "text/plain": [
       "<Figure size 432x288 with 1 Axes>"
      ]
     },
     "metadata": {
      "needs_background": "light"
     },
     "output_type": "display_data"
    }
   ],
   "source": [
    "fig, ax = plt.subplots(1, 1)\n",
    "ax.plot(my_df['p'], my_df['Pr(p|data)'], 'k-', lw=2, alpha=0.6, label='beta pdf')\n",
    "plt.xlabel('p')\n",
    "plt.ylabel('Pr(p|data)')"
   ]
  },
  {
   "cell_type": "code",
   "execution_count": null,
   "metadata": {},
   "outputs": [],
   "source": []
  }
 ],
 "metadata": {
  "kernelspec": {
   "display_name": "Python 3",
   "language": "python",
   "name": "python3"
  },
  "language_info": {
   "codemirror_mode": {
    "name": "ipython",
    "version": 3
   },
   "file_extension": ".py",
   "mimetype": "text/x-python",
   "name": "python",
   "nbconvert_exporter": "python",
   "pygments_lexer": "ipython3",
   "version": "3.7.2"
  }
 },
 "nbformat": 4,
 "nbformat_minor": 2
}
